{
  "cells": [
    {
      "cell_type": "markdown",
      "metadata": {
        "id": "view-in-github",
        "colab_type": "text"
      },
      "source": [
        "<a href=\"https://colab.research.google.com/github/Kamana-b1012/python-project/blob/main/Welcome_To_Colaboratory.ipynb\" target=\"_parent\"><img src=\"https://colab.research.google.com/assets/colab-badge.svg\" alt=\"Open In Colab\"/></a>"
      ]
    },
    {
      "cell_type": "markdown",
      "source": [
        "Project-5\n",
        "Trip calculator Project\n",
        "indtruction\n",
        "1.creater a greeting for your program.\n",
        "2.ask user for no of days.\n",
        "3.ask the user for hotel price.\n",
        "4.ask the user for flight price.\n",
        "5.ask the user for rental car price.\n",
        "6.ask the user for other expecnses.\n",
        "7.combine all the expencses together and print with 2digit after decimalpoint\n",
        "input\n",
        "wellcome to the Trip cost calculator Project\n",
        "How many day will you stay? 3\n",
        "how much does hotel cost per night? $30\n",
        "how much does flight cost? $50\n",
        "if you need to rental a car plese enter the price otherwise enter zero.$10\n",
        "Enter other possible expences $0\n",
        "output total cost: $170.0\n"
      ],
      "metadata": {
        "id": "OqsH2MA_Me72"
      }
    },
    {
      "cell_type": "code",
      "source": [
        "print(\"wellcome to the Trip cost calculator \")\n",
        "day=int(input(\"How many day will you stay ?\"))\n",
        "hotalPrice =float(input(\"How much does hotel cost per nignt? $\"))\n",
        "flightPrice= float(input(\"How much does flight cost? $\"))\n",
        "rentailCarPrice =float(input(\"f you need to rental a car plese enter the price otherwise enter zero. $\"))\n",
        "otherExpenses = float(input(\"Enter other possible expences. $\"))\n",
        "totalCost = round(day * hotalPrice + flightPrice + day *rentailCarPrice +  otherExpenses, 2)\n",
        "print(f\"Total Cost : ${totalCost}\")"
      ],
      "metadata": {
        "id": "oA_ixQMDTAcC",
        "outputId": "01aa4d17-5e30-4a83-d806-db9f8521ef81",
        "colab": {
          "base_uri": "https://localhost:8080/"
        }
      },
      "execution_count": 8,
      "outputs": [
        {
          "output_type": "stream",
          "name": "stdout",
          "text": [
            "wellcome to the Trip cost calculator \n",
            "How many day will you stay ?7\n",
            "How much does hotel cost per nignt? $35.75\n",
            "How much does flight cost? $150\n",
            "f you need to rental a car plese enter the price otherwise enter zero. $13\n",
            "Enter other possible expences. $7\n",
            "Total Cost : $498.25\n"
          ]
        }
      ]
    },
    {
      "cell_type": "markdown",
      "source": [
        "# New Section"
      ],
      "metadata": {
        "id": "J35omJIMZ8Zx"
      }
    }
  ],
  "metadata": {
    "colab": {
      "name": "Welcome To Colaboratory",
      "toc_visible": true,
      "provenance": [],
      "include_colab_link": true
    },
    "kernelspec": {
      "display_name": "Python 3",
      "name": "python3"
    }
  },
  "nbformat": 4,
  "nbformat_minor": 0
}